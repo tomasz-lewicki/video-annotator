{
 "cells": [
  {
   "cell_type": "code",
   "execution_count": 1,
   "metadata": {},
   "outputs": [],
   "source": [
    "import imageio\n",
    "import json\n",
    "import matplotlib.pyplot as plt\n",
    "%matplotlib inline"
   ]
  },
  {
   "cell_type": "code",
   "execution_count": 2,
   "metadata": {},
   "outputs": [],
   "source": [
    "with open(\"annotated/Fire_In_Santa_Rosa_at_Recycling_Facility_4k_Drone-5LtG-RGe4_g.json\") as f:\n",
    "    annos = json.loads(f.read())"
   ]
  },
  {
   "cell_type": "code",
   "execution_count": 3,
   "metadata": {},
   "outputs": [],
   "source": [
    "filename = \"annotated/Fire_In_Santa_Rosa_at_Recycling_Facility_4k_Drone-5LtG-RGe4_g.mkv\"\n",
    "reader = imageio.get_reader(filename)\n",
    "FPS = reader.get_meta_data()[\"fps\"]"
   ]
  },
  {
   "cell_type": "code",
   "execution_count": null,
   "metadata": {},
   "outputs": [],
   "source": [
    "for idx, y in annos:\n",
    "    print(idx, bool(y))\n",
    "    frame = reader.get_data(idx)\n",
    "    plt.imshow(frame)\n",
    "    plt.show()"
   ]
  }
 ],
 "metadata": {
  "kernelspec": {
   "display_name": "Python 3",
   "language": "python",
   "name": "python3"
  },
  "language_info": {
   "codemirror_mode": {
    "name": "ipython",
    "version": 3
   },
   "file_extension": ".py",
   "mimetype": "text/x-python",
   "name": "python",
   "nbconvert_exporter": "python",
   "pygments_lexer": "ipython3",
   "version": "3.8.2"
  }
 },
 "nbformat": 4,
 "nbformat_minor": 4
}
